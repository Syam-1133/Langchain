{
 "cells": [
  {
   "cell_type": "markdown",
   "id": "f87e7ad5",
   "metadata": {},
   "source": [
    "#### Getting started With Langchain And Open AI\n",
    "\n",
    "In this quickstart we'll see how to:\n",
    "\n",
    "- Get setup with LangChain, LangSmith and LangServe\n",
    "- Use the most basic and common components of LangChain: prompt templates, models, and output parsers.\n",
    "- Build a simple application with LangChain\n",
    "- Trace your application with LangSmith\n",
    "- Serve your application with LangServe"
   ]
  },
  {
   "cell_type": "code",
   "execution_count": 1,
   "id": "b760b324",
   "metadata": {},
   "outputs": [],
   "source": [
    "import os\n",
    "import sys\n",
    "from dotenv import load_dotenv\n",
    "load_dotenv()\n",
    "\n",
    "os.environ[\"OPENAI_API_KEY\"] = os.getenv(\"OPENAI_API_KEY\")\n",
    "\n",
    "## Langsmith Tracking\n",
    "os.environ['LANGCHAIN_API_KEY'] = os.getenv('LANGCHAIN_API_KEY')\n",
    "os.environ[\"LANGCHAIN_TRACING_V2\"]=\"true\"\n",
    "os.environ[\"LANGCHAIN_PROJECT\"]=os.getenv(\"LANGCHAIN_PROJECT\")\n"
   ]
  },
  {
   "cell_type": "code",
   "execution_count": 2,
   "id": "cc1a3572",
   "metadata": {},
   "outputs": [
    {
     "name": "stdout",
     "output_type": "stream",
     "text": [
      "client=<openai.resources.chat.completions.completions.Completions object at 0x1188c4d00> async_client=<openai.resources.chat.completions.completions.AsyncCompletions object at 0x118d18580> root_client=<openai.OpenAI object at 0x11884ba90> root_async_client=<openai.AsyncOpenAI object at 0x119c31990> model_name='gpt-4o' model_kwargs={} openai_api_key=SecretStr('**********')\n"
     ]
    }
   ],
   "source": [
    "from langchain_openai import ChatOpenAI\n",
    "llm = ChatOpenAI(model='gpt-4o')\n",
    "print(llm)"
   ]
  },
  {
   "cell_type": "code",
   "execution_count": 3,
   "id": "75cca638",
   "metadata": {},
   "outputs": [],
   "source": [
    "## Input and get response form LLM\n",
    "\n",
    "results = llm.invoke('what is Generative AI')"
   ]
  },
  {
   "cell_type": "code",
   "execution_count": 4,
   "id": "30dd2a3b",
   "metadata": {},
   "outputs": [
    {
     "data": {
      "text/plain": [
       "AIMessage(content='Generative AI refers to a subset of artificial intelligence technologies and models designed to generate new, original content rather than merely analyzing or categorizing existing data. This type of AI is capable of creating text, images, music, and even video by learning from a vast array of existing content and understanding patterns within it. \\n\\nKey characteristics of generative AI include:\\n\\n1. **Creativity**: Unlike traditional AI models that focus on recognizing and classifying data, generative AI can produce novel outputs. This can involve creating coherent text that mimics human writing, designing artistic images, or composing music.\\n\\n2. **Deep Learning Models**: The backbone of generative AI typically involves advanced neural network architectures, such as Generative Adversarial Networks (GANs), Variational Autoencoders (VAEs), and transformer models. These rely on large datasets to train the models to understand and replicate complex patterns.\\n\\n3. **Applications**: Generative AI has a wide range of applications across different fields. In art and design, it aids in creating new pieces of work or simulating different artistic styles. In natural language processing, it powers applications like chatbots, machine translation, and content creation tools. In gaming and virtual reality, it is used to generate more realistic environments and non-player characters.\\n\\n4. **Challenges**: While offering immense potential, generative AI also raises challenges and concerns, including ethical issues around the authenticity of content, potential for misuse in generating deepfakes or misleading information, and intellectual property rights regarding AI-generated works.\\n\\nOverall, generative AI represents a significant advancement in the capability of machines to perform tasks traditionally seen as uniquely human: the creative process.', additional_kwargs={'refusal': None}, response_metadata={'token_usage': {'completion_tokens': 336, 'prompt_tokens': 12, 'total_tokens': 348, 'completion_tokens_details': {'accepted_prediction_tokens': 0, 'audio_tokens': 0, 'reasoning_tokens': 0, 'rejected_prediction_tokens': 0}, 'prompt_tokens_details': {'audio_tokens': 0, 'cached_tokens': 0}}, 'model_name': 'gpt-4o-2024-08-06', 'system_fingerprint': 'fp_cbf1785567', 'id': 'chatcmpl-CJRoIaI9RuO1dsqgqAomeAChk14Zx', 'service_tier': 'default', 'finish_reason': 'stop', 'logprobs': None}, id='run--e64bb477-38aa-4302-a5db-623ced719e12-0', usage_metadata={'input_tokens': 12, 'output_tokens': 336, 'total_tokens': 348, 'input_token_details': {'audio': 0, 'cache_read': 0}, 'output_token_details': {'audio': 0, 'reasoning': 0}})"
      ]
     },
     "execution_count": 4,
     "metadata": {},
     "output_type": "execute_result"
    }
   ],
   "source": [
    "results"
   ]
  },
  {
   "cell_type": "code",
   "execution_count": 5,
   "id": "c83eaa83",
   "metadata": {},
   "outputs": [
    {
     "data": {
      "text/plain": [
       "ChatPromptTemplate(input_variables=['input'], input_types={}, partial_variables={}, messages=[SystemMessagePromptTemplate(prompt=PromptTemplate(input_variables=[], input_types={}, partial_variables={}, template='You are an expert AI Engineer. Provide me answers based on the questions'), additional_kwargs={}), HumanMessagePromptTemplate(prompt=PromptTemplate(input_variables=['input'], input_types={}, partial_variables={}, template='{input}'), additional_kwargs={})])"
      ]
     },
     "execution_count": 5,
     "metadata": {},
     "output_type": "execute_result"
    }
   ],
   "source": [
    "### Chatprompt Template\n",
    "\n",
    "from langchain.prompts import ChatPromptTemplate\n",
    "\n",
    "prompt = ChatPromptTemplate.from_messages(\n",
    "\n",
    "    [\n",
    "        (\"system\",\"You are an expert AI Engineer. Provide me answers based on the questions\"),\n",
    "        (\"user\",\"{input}\"),\n",
    "    ]\n",
    ")\n",
    "\n",
    "\n",
    "prompt"
   ]
  },
  {
   "cell_type": "code",
   "execution_count": 8,
   "id": "aa1d93bc",
   "metadata": {},
   "outputs": [
    {
     "name": "stdout",
     "output_type": "stream",
     "text": [
      "content=\"Elon Musk is a business magnate, industrial designer, and engineer known for his roles in several high-profile companies. He was born on June 28, 1971, in Pretoria, South Africa. Musk is the founder, CEO, and chief engineer of SpaceX; early investor, CEO, and product architect of Tesla, Inc.; owner and CEO of X Corp. (formerly Twitter); founder of The Boring Company; and co-founder of companies like Neuralink and OpenAI.\\n\\nHis work primarily focuses on advocating for and developing technologies related to space exploration, clean energy, and transportation. SpaceX aims to reduce space transportation costs and enable the colonization of Mars. Tesla is known for producing electric vehicles and renewable energy products. The Boring Company works on tunnel construction to alleviate urban traffic, and Neuralink focuses on developing brain-machine interfaces.\\n\\nMusk's ventures often intersect with his vision for the future, including sustainable energy, interplanetary travel, and cyberspace innovations. His influence, entrepreneurial style, and ambitious goals have made him a prominent figure in the tech industry and beyond.\" additional_kwargs={'refusal': None} response_metadata={'token_usage': {'completion_tokens': 220, 'prompt_tokens': 34, 'total_tokens': 254, 'completion_tokens_details': {'accepted_prediction_tokens': 0, 'audio_tokens': 0, 'reasoning_tokens': 0, 'rejected_prediction_tokens': 0}, 'prompt_tokens_details': {'audio_tokens': 0, 'cached_tokens': 0}}, 'model_name': 'gpt-4o-2024-08-06', 'system_fingerprint': 'fp_1827dd0c55', 'id': 'chatcmpl-CJS0gDj9esmJaC5ursXIgxXoWac7f', 'service_tier': 'default', 'finish_reason': 'stop', 'logprobs': None} id='run--0c314ff0-ddcb-4358-a764-3cf23fd851d1-0' usage_metadata={'input_tokens': 34, 'output_tokens': 220, 'total_tokens': 254, 'input_token_details': {'audio': 0, 'cache_read': 0}, 'output_token_details': {'audio': 0, 'reasoning': 0}}\n"
     ]
    }
   ],
   "source": [
    "## chain \n",
    "chain=prompt|llm\n",
    "\n",
    "response=chain.invoke({\"input\":\"Can you tell me about elon musk?\"})\n",
    "print(response)"
   ]
  },
  {
   "cell_type": "code",
   "execution_count": 9,
   "id": "38d92e7a",
   "metadata": {},
   "outputs": [
    {
     "data": {
      "text/plain": [
       "langchain_core.messages.ai.AIMessage"
      ]
     },
     "execution_count": 9,
     "metadata": {},
     "output_type": "execute_result"
    }
   ],
   "source": [
    "type(response)"
   ]
  },
  {
   "cell_type": "code",
   "execution_count": 10,
   "id": "2191815d",
   "metadata": {},
   "outputs": [
    {
     "name": "stdout",
     "output_type": "stream",
     "text": [
      "Elon Musk is a renowned entrepreneur and business magnate known for his work in the technology and space industries. Born on June 28, 1971, in Pretoria, South Africa, he holds South African, Canadian, and U.S. citizenship. Musk is best known for founding or co-founding several high-profile companies:\n",
      "\n",
      "1. **SpaceX**: Founded in 2002, Space Exploration Technologies Corp., or SpaceX, aims to reduce space transportation costs and enable the colonization of Mars. The company has achieved numerous milestones, including the first privately funded spacecraft to reach orbit and the first private company to send astronauts to the International Space Station.\n",
      "\n",
      "2. **Tesla, Inc.**: As the CEO and product architect of Tesla since 2008, Musk has been a key force behind the electric vehicle and clean energy revolution. Tesla designs and manufactures electric cars, battery energy storage from home to grid-scale, and solar products.\n",
      "\n",
      "3. **Neuralink**: Founded in 2016, Neuralink is a neurotechnology company focused on developing brain-machine interfaces. The company aims to create devices that can help people with paralysis and potentially link human brains with computers.\n",
      "\n",
      "4. **The Boring Company**: Established in 2016, this infrastructure and tunnel construction services company focuses on creating efficient tunneling and transportation systems to reduce urban traffic and improve transportation networks.\n",
      "\n",
      "5. **X.com and PayPal**: Musk co-founded X.com in 1999, which was an online bank. This eventually became PayPal after a merger, and it was later sold to eBay for $1.5 billion in stock, with Musk receiving $165 million.\n",
      "\n",
      "Beyond these, Musk has been involved in other ventures and projects, including SolarCity (acquired by Tesla and now integrated into Tesla Energy) and initiatives promoting sustainable energy and future-focused technologies. He is known for his ambitious visions, including aspirations to make humanity a multi-planetary species by establishing a human settlement on Mars.\n",
      "\n",
      "Musk's ideas and ventures often generate substantial public interest and debate regarding their feasibility and impacts on society and the economy.\n"
     ]
    }
   ],
   "source": [
    "## stroutput Parser\n",
    "\n",
    "from langchain_core.output_parsers import StrOutputParser\n",
    "output_parser = StrOutputParser()\n",
    "chain=prompt|llm|output_parser\n",
    "\n",
    "response=chain.invoke({\"input\":\"Can you tell me about Elon musk?\"})\n",
    "print(response)"
   ]
  },
  {
   "cell_type": "code",
   "execution_count": null,
   "id": "f2ce0c82",
   "metadata": {},
   "outputs": [],
   "source": []
  }
 ],
 "metadata": {
  "kernelspec": {
   "display_name": "env",
   "language": "python",
   "name": "python3"
  },
  "language_info": {
   "codemirror_mode": {
    "name": "ipython",
    "version": 3
   },
   "file_extension": ".py",
   "mimetype": "text/x-python",
   "name": "python",
   "nbconvert_exporter": "python",
   "pygments_lexer": "ipython3",
   "version": "3.10.16"
  }
 },
 "nbformat": 4,
 "nbformat_minor": 5
}
